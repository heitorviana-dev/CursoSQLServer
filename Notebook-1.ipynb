{
    "metadata": {
        "kernelspec": {
            "name": "SQL",
            "display_name": "SQL",
            "language": "sql"
        },
        "language_info": {
            "name": "sql",
            "version": ""
        }
    },
    "nbformat_minor": 2,
    "nbformat": 4,
    "cells": [
        {
            "cell_type": "markdown",
            "source": [
                "Criando a table clientes:"
            ],
            "metadata": {
                "azdata_cell_guid": "ba35adf6-9efa-4ed0-bb87-6515694452bf"
            },
            "attachments": {}
        },
        {
            "cell_type": "code",
            "source": [
                "CREATE TABLE clientes(\n",
                "    cpf CHAR(11),\n",
                "    nome_completo VARCHAR(100),\n",
                "    endereco VARCHAR(100),\n",
                "    data_nascimento DATE,\n",
                "    limite_credito MONEY,\n",
                "    sexo CHAR(1),\n",
                "    idade INT,\n",
                "    volume_minino_compra FLOAT,\n",
                "    ja_fez_compra BIT\n",
                ");"
            ],
            "metadata": {
                "azdata_cell_guid": "40a6a080-a818-487f-bf17-ad8bfe959953",
                "language": "sql"
            },
            "outputs": [],
            "execution_count": null
        },
        {
            "cell_type": "markdown",
            "source": [
                "Adicionando restrição not null ao cpf:"
            ],
            "metadata": {
                "azdata_cell_guid": "704b4c18-be3d-42bf-8196-902052da1ef8"
            },
            "attachments": {}
        },
        {
            "cell_type": "code",
            "source": [
                "ALTER TABLE clientes\n",
                "ALTER COLUMN cpf CHAR(11) NOT NULL;"
            ],
            "metadata": {
                "azdata_cell_guid": "a7f900d6-1e02-4ecc-ae67-ca2afd2da0bd",
                "language": "sql"
            },
            "outputs": [],
            "execution_count": null
        },
        {
            "cell_type": "markdown",
            "source": [
                "Adicionando constraint Primary key à coluna cpf:"
            ],
            "metadata": {
                "azdata_cell_guid": "322a00bb-0c94-41cf-a9ab-4c79704ae0f5"
            },
            "attachments": {}
        },
        {
            "cell_type": "code",
            "source": [
                "ALTER TABLE clientes\n",
                "ADD CONSTRAINT pk_tabela_clientes\n",
                "PRIMARY KEY CLUSTERED (cpf);"
            ],
            "metadata": {
                "azdata_cell_guid": "024b5813-e35a-4797-be46-912b3843b397",
                "language": "sql",
                "tags": []
            },
            "outputs": [],
            "execution_count": null
        },
        {
            "cell_type": "markdown",
            "source": [
                "Destruindo a tabela clientes:"
            ],
            "metadata": {
                "azdata_cell_guid": "e9749aeb-5418-42b3-ad0f-5b3891392956"
            },
            "attachments": {}
        },
        {
            "cell_type": "code",
            "source": [
                "DROP TABLE clientes;"
            ],
            "metadata": {
                "azdata_cell_guid": "0cecb441-2392-4074-9142-46629506c3c7",
                "language": "sql"
            },
            "outputs": [],
            "execution_count": null
        }
    ]
}