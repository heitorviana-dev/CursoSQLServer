{
    "metadata": {
        "kernelspec": {
            "name": "SQL",
            "display_name": "SQL",
            "language": "sql"
        },
        "language_info": {
            "name": "sql",
            "version": ""
        }
    },
    "nbformat_minor": 2,
    "nbformat": 4,
    "cells": [
        {
            "cell_type": "markdown",
            "source": [
                "Nesta seção iremos falar sobre consultas. Para fazer uma consulta é bem simples, basta seguir a sintaxe abaixo:"
            ],
            "metadata": {
                "azdata_cell_guid": "da31446a-be73-45a7-b6f0-3d0d569249cd"
            },
            "attachments": {}
        },
        {
            "cell_type": "code",
            "source": [
                "SELECT <colunas> FROM <tabela>;"
            ],
            "metadata": {
                "azdata_cell_guid": "f312452d-a1ec-4025-9aff-d3f669e76ae3",
                "language": "sql"
            },
            "outputs": [],
            "execution_count": null
        },
        {
            "cell_type": "markdown",
            "source": [
                "Exemplo:"
            ],
            "metadata": {
                "azdata_cell_guid": "610b438f-a954-4c3d-9f3c-de8c57bcbac5"
            },
            "attachments": {}
        },
        {
            "cell_type": "code",
            "source": [
                "USE sucos_vendas;\n",
                "GO\n",
                "\n",
                "SELECT * FROM clientes;"
            ],
            "metadata": {
                "azdata_cell_guid": "dbba7128-116d-4853-8e13-77425876197a",
                "language": "sql"
            },
            "outputs": [
                {
                    "output_type": "display_data",
                    "data": {
                        "text/html": "Commands completed successfully."
                    },
                    "metadata": {}
                },
                {
                    "output_type": "display_data",
                    "data": {
                        "text/html": "(5 rows affected)"
                    },
                    "metadata": {}
                },
                {
                    "output_type": "display_data",
                    "data": {
                        "text/html": "Total execution time: 00:00:00.022"
                    },
                    "metadata": {}
                },
                {
                    "output_type": "execute_result",
                    "metadata": {},
                    "execution_count": 6,
                    "data": {
                        "application/vnd.dataresource+json": {
                            "schema": {
                                "fields": [
                                    {
                                        "name": "cpf"
                                    },
                                    {
                                        "name": "nome_completo"
                                    },
                                    {
                                        "name": "rua"
                                    },
                                    {
                                        "name": "complemento"
                                    },
                                    {
                                        "name": "bairro"
                                    },
                                    {
                                        "name": "estado"
                                    },
                                    {
                                        "name": "CEP"
                                    },
                                    {
                                        "name": "data_nascimento"
                                    },
                                    {
                                        "name": "idade"
                                    },
                                    {
                                        "name": "sexo"
                                    },
                                    {
                                        "name": "limite_credito"
                                    },
                                    {
                                        "name": "volume_minimo_compra"
                                    },
                                    {
                                        "name": "ja_fez_compra"
                                    },
                                    {
                                        "name": "cidade"
                                    }
                                ]
                            },
                            "data": [
                                {
                                    "cpf": "1471156710 ",
                                    "nome_completo": "Erica Carvalho",
                                    "rua": "R. Iriquitia",
                                    "complemento": "NULL",
                                    "bairro": "Jardins",
                                    "estado": "SP",
                                    "CEP": "80012212",
                                    "data_nascimento": "1990-09-01",
                                    "idade": "34",
                                    "sexo": "F",
                                    "limite_credito": "17000000,00",
                                    "volume_minimo_compra": "24500",
                                    "ja_fez_compra": "0",
                                    "cidade": "São Paulo"
                                },
                                {
                                    "cpf": "19290992743",
                                    "nome_completo": "Fernando Cavalcante",
                                    "rua": "R. Dois de Fevereiro",
                                    "complemento": "NULL",
                                    "bairro": "Agua Santa",
                                    "estado": "RJ",
                                    "CEP": "22000000",
                                    "data_nascimento": "2000-02-12",
                                    "idade": "24",
                                    "sexo": "M",
                                    "limite_credito": "1000000000,00",
                                    "volume_minimo_compra": "20000",
                                    "ja_fez_compra": "1",
                                    "cidade": "Rio de Janeiro"
                                },
                                {
                                    "cpf": "2600586709 ",
                                    "nome_completo": "Cesar Teixeira",
                                    "rua": "Rua Conde de Bonfim",
                                    "complemento": "NULL",
                                    "bairro": "Tijuca",
                                    "estado": "RJ",
                                    "CEP": "22020001",
                                    "data_nascimento": "2000-03-12",
                                    "idade": "24",
                                    "sexo": "M",
                                    "limite_credito": "1200000000,00",
                                    "volume_minimo_compra": "22000",
                                    "ja_fez_compra": "0",
                                    "cidade": "Rio de Janeiro"
                                },
                                {
                                    "cpf": "3623344710 ",
                                    "nome_completo": "Marcos Nogueira",
                                    "rua": "Av. Pastor Martin Luther King Junior",
                                    "complemento": "NULL",
                                    "bairro": "Inhauma",
                                    "estado": "RJ",
                                    "CEP": "22002012",
                                    "data_nascimento": "1995-01-13",
                                    "idade": "29",
                                    "sexo": "M",
                                    "limite_credito": "1100000000,00",
                                    "volume_minimo_compra": "22000",
                                    "ja_fez_compra": "1",
                                    "cidade": "Rio de Janeiro"
                                },
                                {
                                    "cpf": "492472718  ",
                                    "nome_completo": "Eduardo Jorge",
                                    "rua": "R. Volta Grande",
                                    "complemento": "NULL",
                                    "bairro": "Tijuca",
                                    "estado": "RJ",
                                    "CEP": "22012002",
                                    "data_nascimento": "1994-07-19",
                                    "idade": "30",
                                    "sexo": "M",
                                    "limite_credito": "750000000,00",
                                    "volume_minimo_compra": "9500",
                                    "ja_fez_compra": "1",
                                    "cidade": "Rio de Janeiro"
                                }
                            ]
                        },
                        "text/html": [
                            "<table>",
                            "<tr><th>cpf</th><th>nome_completo</th><th>rua</th><th>complemento</th><th>bairro</th><th>estado</th><th>CEP</th><th>data_nascimento</th><th>idade</th><th>sexo</th><th>limite_credito</th><th>volume_minimo_compra</th><th>ja_fez_compra</th><th>cidade</th></tr>",
                            "<tr><td>1471156710 </td><td>Erica Carvalho</td><td>R. Iriquitia</td><td>NULL</td><td>Jardins</td><td>SP</td><td>80012212</td><td>1990-09-01</td><td>34</td><td>F</td><td>17000000,00</td><td>24500</td><td>0</td><td>São Paulo</td></tr>",
                            "<tr><td>19290992743</td><td>Fernando Cavalcante</td><td>R. Dois de Fevereiro</td><td>NULL</td><td>Agua Santa</td><td>RJ</td><td>22000000</td><td>2000-02-12</td><td>24</td><td>M</td><td>1000000000,00</td><td>20000</td><td>1</td><td>Rio de Janeiro</td></tr>",
                            "<tr><td>2600586709 </td><td>Cesar Teixeira</td><td>Rua Conde de Bonfim</td><td>NULL</td><td>Tijuca</td><td>RJ</td><td>22020001</td><td>2000-03-12</td><td>24</td><td>M</td><td>1200000000,00</td><td>22000</td><td>0</td><td>Rio de Janeiro</td></tr>",
                            "<tr><td>3623344710 </td><td>Marcos Nogueira</td><td>Av. Pastor Martin Luther King Junior</td><td>NULL</td><td>Inhauma</td><td>RJ</td><td>22002012</td><td>1995-01-13</td><td>29</td><td>M</td><td>1100000000,00</td><td>22000</td><td>1</td><td>Rio de Janeiro</td></tr>",
                            "<tr><td>492472718  </td><td>Eduardo Jorge</td><td>R. Volta Grande</td><td>NULL</td><td>Tijuca</td><td>RJ</td><td>22012002</td><td>1994-07-19</td><td>30</td><td>M</td><td>750000000,00</td><td>9500</td><td>1</td><td>Rio de Janeiro</td></tr>",
                            "</table>"
                        ]
                    }
                }
            ],
            "execution_count": 6
        },
        {
            "cell_type": "markdown",
            "source": [
                "O \\* no exemplo acima significa que eu quero ver todas as colunas da tabela."
            ],
            "metadata": {
                "azdata_cell_guid": "469ad85a-b303-4fbc-b149-328f660f1d95"
            },
            "attachments": {}
        },
        {
            "cell_type": "markdown",
            "source": [
                "Caso você queira ver apenas algumas colunas específicas, basta colocar no lugar do \\*:"
            ],
            "metadata": {
                "azdata_cell_guid": "b0a8f1de-36fa-4e67-a5b0-6bd8ed496e5c"
            },
            "attachments": {}
        },
        {
            "cell_type": "code",
            "source": [
                "USE sucos_vendas;\n",
                "GO\n",
                "\n",
                "SELECT nome_completo, idade FROM clientes;"
            ],
            "metadata": {
                "azdata_cell_guid": "9205e39c-54d8-47c5-a54e-f7e46293a680",
                "language": "sql"
            },
            "outputs": [
                {
                    "output_type": "display_data",
                    "data": {
                        "text/html": "Commands completed successfully."
                    },
                    "metadata": {}
                },
                {
                    "output_type": "display_data",
                    "data": {
                        "text/html": "(5 rows affected)"
                    },
                    "metadata": {}
                },
                {
                    "output_type": "display_data",
                    "data": {
                        "text/html": "Total execution time: 00:00:00.008"
                    },
                    "metadata": {}
                },
                {
                    "output_type": "execute_result",
                    "metadata": {},
                    "execution_count": 7,
                    "data": {
                        "application/vnd.dataresource+json": {
                            "schema": {
                                "fields": [
                                    {
                                        "name": "nome_completo"
                                    },
                                    {
                                        "name": "idade"
                                    }
                                ]
                            },
                            "data": [
                                {
                                    "nome_completo": "Erica Carvalho",
                                    "idade": "34"
                                },
                                {
                                    "nome_completo": "Fernando Cavalcante",
                                    "idade": "24"
                                },
                                {
                                    "nome_completo": "Cesar Teixeira",
                                    "idade": "24"
                                },
                                {
                                    "nome_completo": "Marcos Nogueira",
                                    "idade": "29"
                                },
                                {
                                    "nome_completo": "Eduardo Jorge",
                                    "idade": "30"
                                }
                            ]
                        },
                        "text/html": [
                            "<table>",
                            "<tr><th>nome_completo</th><th>idade</th></tr>",
                            "<tr><td>Erica Carvalho</td><td>34</td></tr>",
                            "<tr><td>Fernando Cavalcante</td><td>24</td></tr>",
                            "<tr><td>Cesar Teixeira</td><td>24</td></tr>",
                            "<tr><td>Marcos Nogueira</td><td>29</td></tr>",
                            "<tr><td>Eduardo Jorge</td><td>30</td></tr>",
                            "</table>"
                        ]
                    }
                }
            ],
            "execution_count": 7
        },
        {
            "cell_type": "markdown",
            "source": [
                "Também é possível escolher como você quer ordenar, por padrão as linhas exibidas são ordenadas pela ordem de adição, porém e se eu quiser ordernar pela ordem alfabética dos nomes? Para isso vamos usar a instrução ORDER BY:"
            ],
            "metadata": {
                "azdata_cell_guid": "df86391e-6045-4aae-8031-3cab0d96a55f"
            },
            "attachments": {}
        },
        {
            "cell_type": "code",
            "source": [
                "USE sucos_vendas;\n",
                "GO\n",
                "\n",
                "SELECT * FROM clientes ORDER BY nome_completo;"
            ],
            "metadata": {
                "azdata_cell_guid": "ba68522b-6090-4280-8788-efc38955b9c4",
                "language": "sql",
                "tags": [
                    "hide_input"
                ]
            },
            "outputs": [
                {
                    "output_type": "display_data",
                    "data": {
                        "text/html": "Commands completed successfully."
                    },
                    "metadata": {}
                },
                {
                    "output_type": "display_data",
                    "data": {
                        "text/html": "(5 rows affected)"
                    },
                    "metadata": {}
                },
                {
                    "output_type": "display_data",
                    "data": {
                        "text/html": "Total execution time: 00:00:00.013"
                    },
                    "metadata": {}
                },
                {
                    "output_type": "execute_result",
                    "metadata": {},
                    "execution_count": 5,
                    "data": {
                        "application/vnd.dataresource+json": {
                            "schema": {
                                "fields": [
                                    {
                                        "name": "cpf"
                                    },
                                    {
                                        "name": "nome_completo"
                                    },
                                    {
                                        "name": "rua"
                                    },
                                    {
                                        "name": "complemento"
                                    },
                                    {
                                        "name": "bairro"
                                    },
                                    {
                                        "name": "estado"
                                    },
                                    {
                                        "name": "CEP"
                                    },
                                    {
                                        "name": "data_nascimento"
                                    },
                                    {
                                        "name": "idade"
                                    },
                                    {
                                        "name": "sexo"
                                    },
                                    {
                                        "name": "limite_credito"
                                    },
                                    {
                                        "name": "volume_minimo_compra"
                                    },
                                    {
                                        "name": "ja_fez_compra"
                                    },
                                    {
                                        "name": "cidade"
                                    }
                                ]
                            },
                            "data": [
                                {
                                    "cpf": "2600586709 ",
                                    "nome_completo": "Cesar Teixeira",
                                    "rua": "Rua Conde de Bonfim",
                                    "complemento": "NULL",
                                    "bairro": "Tijuca",
                                    "estado": "RJ",
                                    "CEP": "22020001",
                                    "data_nascimento": "2000-03-12",
                                    "idade": "24",
                                    "sexo": "M",
                                    "limite_credito": "1200000000,00",
                                    "volume_minimo_compra": "22000",
                                    "ja_fez_compra": "0",
                                    "cidade": "Rio de Janeiro"
                                },
                                {
                                    "cpf": "492472718  ",
                                    "nome_completo": "Eduardo Jorge",
                                    "rua": "R. Volta Grande",
                                    "complemento": "NULL",
                                    "bairro": "Tijuca",
                                    "estado": "RJ",
                                    "CEP": "22012002",
                                    "data_nascimento": "1994-07-19",
                                    "idade": "30",
                                    "sexo": "M",
                                    "limite_credito": "750000000,00",
                                    "volume_minimo_compra": "9500",
                                    "ja_fez_compra": "1",
                                    "cidade": "Rio de Janeiro"
                                },
                                {
                                    "cpf": "1471156710 ",
                                    "nome_completo": "Erica Carvalho",
                                    "rua": "R. Iriquitia",
                                    "complemento": "NULL",
                                    "bairro": "Jardins",
                                    "estado": "SP",
                                    "CEP": "80012212",
                                    "data_nascimento": "1990-09-01",
                                    "idade": "34",
                                    "sexo": "F",
                                    "limite_credito": "17000000,00",
                                    "volume_minimo_compra": "24500",
                                    "ja_fez_compra": "0",
                                    "cidade": "São Paulo"
                                },
                                {
                                    "cpf": "19290992743",
                                    "nome_completo": "Fernando Cavalcante",
                                    "rua": "R. Dois de Fevereiro",
                                    "complemento": "NULL",
                                    "bairro": "Agua Santa",
                                    "estado": "RJ",
                                    "CEP": "22000000",
                                    "data_nascimento": "2000-02-12",
                                    "idade": "24",
                                    "sexo": "M",
                                    "limite_credito": "1000000000,00",
                                    "volume_minimo_compra": "20000",
                                    "ja_fez_compra": "1",
                                    "cidade": "Rio de Janeiro"
                                },
                                {
                                    "cpf": "3623344710 ",
                                    "nome_completo": "Marcos Nogueira",
                                    "rua": "Av. Pastor Martin Luther King Junior",
                                    "complemento": "NULL",
                                    "bairro": "Inhauma",
                                    "estado": "RJ",
                                    "CEP": "22002012",
                                    "data_nascimento": "1995-01-13",
                                    "idade": "29",
                                    "sexo": "M",
                                    "limite_credito": "1100000000,00",
                                    "volume_minimo_compra": "22000",
                                    "ja_fez_compra": "1",
                                    "cidade": "Rio de Janeiro"
                                }
                            ]
                        },
                        "text/html": [
                            "<table>",
                            "<tr><th>cpf</th><th>nome_completo</th><th>rua</th><th>complemento</th><th>bairro</th><th>estado</th><th>CEP</th><th>data_nascimento</th><th>idade</th><th>sexo</th><th>limite_credito</th><th>volume_minimo_compra</th><th>ja_fez_compra</th><th>cidade</th></tr>",
                            "<tr><td>2600586709 </td><td>Cesar Teixeira</td><td>Rua Conde de Bonfim</td><td>NULL</td><td>Tijuca</td><td>RJ</td><td>22020001</td><td>2000-03-12</td><td>24</td><td>M</td><td>1200000000,00</td><td>22000</td><td>0</td><td>Rio de Janeiro</td></tr>",
                            "<tr><td>492472718  </td><td>Eduardo Jorge</td><td>R. Volta Grande</td><td>NULL</td><td>Tijuca</td><td>RJ</td><td>22012002</td><td>1994-07-19</td><td>30</td><td>M</td><td>750000000,00</td><td>9500</td><td>1</td><td>Rio de Janeiro</td></tr>",
                            "<tr><td>1471156710 </td><td>Erica Carvalho</td><td>R. Iriquitia</td><td>NULL</td><td>Jardins</td><td>SP</td><td>80012212</td><td>1990-09-01</td><td>34</td><td>F</td><td>17000000,00</td><td>24500</td><td>0</td><td>São Paulo</td></tr>",
                            "<tr><td>19290992743</td><td>Fernando Cavalcante</td><td>R. Dois de Fevereiro</td><td>NULL</td><td>Agua Santa</td><td>RJ</td><td>22000000</td><td>2000-02-12</td><td>24</td><td>M</td><td>1000000000,00</td><td>20000</td><td>1</td><td>Rio de Janeiro</td></tr>",
                            "<tr><td>3623344710 </td><td>Marcos Nogueira</td><td>Av. Pastor Martin Luther King Junior</td><td>NULL</td><td>Inhauma</td><td>RJ</td><td>22002012</td><td>1995-01-13</td><td>29</td><td>M</td><td>1100000000,00</td><td>22000</td><td>1</td><td>Rio de Janeiro</td></tr>",
                            "</table>"
                        ]
                    }
                }
            ],
            "execution_count": 5
        },
        {
            "cell_type": "markdown",
            "source": [
                "Também podemos ordernar por outras colunas, por exemplo se escolhermos ordernar por idade, iremos ordernos do mais novo para o mais velho."
            ],
            "metadata": {
                "azdata_cell_guid": "51284022-dbf8-4d44-95be-7d9d05f4b970"
            },
            "attachments": {}
        },
        {
            "cell_type": "markdown",
            "source": [
                "Certo, vimos como consultar dados com colunas específicas e ordernar a consulta, porém e se quisermos consultar os dados e na exibição exibir a coluna com outro nome? Para isso vamos usar a instrução AS(Alias):"
            ],
            "metadata": {
                "azdata_cell_guid": "728bb145-29c5-4219-90db-c15c6da09d3e"
            },
            "attachments": {}
        },
        {
            "cell_type": "code",
            "source": [
                "USE sucos_vendas;\n",
                "GO\n",
                "\n",
                "SELECT nome_completo AS nome_do_cliente FROM clientes;"
            ],
            "metadata": {
                "azdata_cell_guid": "7318b393-2260-4ba3-851c-d9e59d7b9bb4",
                "language": "sql"
            },
            "outputs": [
                {
                    "output_type": "display_data",
                    "data": {
                        "text/html": "Commands completed successfully."
                    },
                    "metadata": {}
                },
                {
                    "output_type": "display_data",
                    "data": {
                        "text/html": "(5 rows affected)"
                    },
                    "metadata": {}
                },
                {
                    "output_type": "display_data",
                    "data": {
                        "text/html": "Total execution time: 00:00:00.010"
                    },
                    "metadata": {}
                },
                {
                    "output_type": "execute_result",
                    "metadata": {},
                    "execution_count": 8,
                    "data": {
                        "application/vnd.dataresource+json": {
                            "schema": {
                                "fields": [
                                    {
                                        "name": "nome_do_cliente"
                                    }
                                ]
                            },
                            "data": [
                                {
                                    "nome_do_cliente": "Erica Carvalho"
                                },
                                {
                                    "nome_do_cliente": "Fernando Cavalcante"
                                },
                                {
                                    "nome_do_cliente": "Cesar Teixeira"
                                },
                                {
                                    "nome_do_cliente": "Marcos Nogueira"
                                },
                                {
                                    "nome_do_cliente": "Eduardo Jorge"
                                }
                            ]
                        },
                        "text/html": [
                            "<table>",
                            "<tr><th>nome_do_cliente</th></tr>",
                            "<tr><td>Erica Carvalho</td></tr>",
                            "<tr><td>Fernando Cavalcante</td></tr>",
                            "<tr><td>Cesar Teixeira</td></tr>",
                            "<tr><td>Marcos Nogueira</td></tr>",
                            "<tr><td>Eduardo Jorge</td></tr>",
                            "</table>"
                        ]
                    }
                }
            ],
            "execution_count": 8
        },
        {
            "cell_type": "markdown",
            "source": [
                "Também podemos usar essa instrução para criar novas colunas apenas na exibição, por exemplo e se quisermos exibir uma coluna 'endereço\\_completo' formado pelas colunas rua, bairro, estado, cep:"
            ],
            "metadata": {
                "azdata_cell_guid": "cf28f26b-9f70-4045-b643-221c9895c348"
            },
            "attachments": {}
        },
        {
            "cell_type": "code",
            "source": [
                "USE sucos_vendas;\n",
                "GO\n",
                "\n",
                "SELECT (rua + ' ' + bairro + ' ' + estado + ' ' + CEP) AS endereço_completo FROM clientes;"
            ],
            "metadata": {
                "azdata_cell_guid": "38de24c9-b32f-4c9a-8e33-f7dc171fe253",
                "language": "sql"
            },
            "outputs": [
                {
                    "output_type": "display_data",
                    "data": {
                        "text/html": "Commands completed successfully."
                    },
                    "metadata": {}
                },
                {
                    "output_type": "display_data",
                    "data": {
                        "text/html": "(5 rows affected)"
                    },
                    "metadata": {}
                },
                {
                    "output_type": "display_data",
                    "data": {
                        "text/html": "Total execution time: 00:00:00.011"
                    },
                    "metadata": {}
                },
                {
                    "output_type": "execute_result",
                    "metadata": {},
                    "execution_count": 9,
                    "data": {
                        "application/vnd.dataresource+json": {
                            "schema": {
                                "fields": [
                                    {
                                        "name": "endereço_completo"
                                    }
                                ]
                            },
                            "data": [
                                {
                                    "endereço_completo": "R. Iriquitia Jardins SP 80012212"
                                },
                                {
                                    "endereço_completo": "R. Dois de Fevereiro Agua Santa RJ 22000000"
                                },
                                {
                                    "endereço_completo": "Rua Conde de Bonfim Tijuca RJ 22020001"
                                },
                                {
                                    "endereço_completo": "Av. Pastor Martin Luther King Junior Inhauma RJ 22002012"
                                },
                                {
                                    "endereço_completo": "R. Volta Grande Tijuca RJ 22012002"
                                }
                            ]
                        },
                        "text/html": [
                            "<table>",
                            "<tr><th>endereço_completo</th></tr>",
                            "<tr><td>R. Iriquitia Jardins SP 80012212</td></tr>",
                            "<tr><td>R. Dois de Fevereiro Agua Santa RJ 22000000</td></tr>",
                            "<tr><td>Rua Conde de Bonfim Tijuca RJ 22020001</td></tr>",
                            "<tr><td>Av. Pastor Martin Luther King Junior Inhauma RJ 22002012</td></tr>",
                            "<tr><td>R. Volta Grande Tijuca RJ 22012002</td></tr>",
                            "</table>"
                        ]
                    }
                }
            ],
            "execution_count": 9
        },
        {
            "cell_type": "markdown",
            "source": [
                "Veja que essa coluna não existe na tabela, porém ela deriva dos dados da tabela, logo o comando SELECT pode ser usado para além de consultar dados, também manipulá-los."
            ],
            "metadata": {
                "azdata_cell_guid": "31cad8da-938f-4e2e-b2e5-b59f29b66ce0"
            },
            "attachments": {}
        },
        {
            "cell_type": "markdown",
            "source": [
                "Outra instrução que podemos utilizar junto com o SELECT é o DISTINCT, essa instrução permite que os dados retornados não sejam repetidos, por exemplo imagine que na tabela produtos existam dois produtos com mesmo sabor porém com outros atributos distintos, se executassé-mos o comando para exibir os sabores da tabela o sabor dos dois produtos apareceria duas vezes, para evitar isso vamos utilizar a instrução DISTINCT:"
            ],
            "metadata": {
                "azdata_cell_guid": "c99b6847-1ed9-4a90-afb7-6dbf3a1ebae8"
            },
            "attachments": {}
        },
        {
            "cell_type": "code",
            "source": [
                "USE sucos_vendas;\n",
                "GO\n",
                "\n",
                "SELECT DISTINCT sabor FROM produtos;"
            ],
            "metadata": {
                "azdata_cell_guid": "62b0892a-57c6-4809-b61c-22a669cac7ae",
                "language": "sql"
            },
            "outputs": [
                {
                    "output_type": "display_data",
                    "data": {
                        "text/html": "Commands completed successfully."
                    },
                    "metadata": {}
                },
                {
                    "output_type": "display_data",
                    "data": {
                        "text/html": "(3 rows affected)"
                    },
                    "metadata": {}
                },
                {
                    "output_type": "display_data",
                    "data": {
                        "text/html": "Total execution time: 00:00:00.024"
                    },
                    "metadata": {}
                },
                {
                    "output_type": "execute_result",
                    "metadata": {},
                    "execution_count": 11,
                    "data": {
                        "application/vnd.dataresource+json": {
                            "schema": {
                                "fields": [
                                    {
                                        "name": "sabor"
                                    }
                                ]
                            },
                            "data": [
                                {
                                    "sabor": "Cola"
                                },
                                {
                                    "sabor": "Guarana"
                                },
                                {
                                    "sabor": "Melancia"
                                }
                            ]
                        },
                        "text/html": [
                            "<table>",
                            "<tr><th>sabor</th></tr>",
                            "<tr><td>Cola</td></tr>",
                            "<tr><td>Guarana</td></tr>",
                            "<tr><td>Melancia</td></tr>",
                            "</table>"
                        ]
                    }
                }
            ],
            "execution_count": 11
        }
    ]
}