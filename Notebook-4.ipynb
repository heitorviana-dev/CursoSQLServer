{
    "metadata": {
        "kernelspec": {
            "name": "SQL",
            "display_name": "SQL",
            "language": "sql"
        },
        "language_info": {
            "name": "sql",
            "version": ""
        }
    },
    "nbformat_minor": 2,
    "nbformat": 4,
    "cells": [
        {
            "cell_type": "markdown",
            "source": [
                "Nesta seção vamos aprender a manipular dados. Para começar faço uma pergunta, como nós poderíamos fazer uma filtragem dos dados? Por exemplo, se quisessemos exibir apenas os clientes que já fizeram a primeira compra da tabela clientes, como fariámos, para isso vamos utilizar a cláusula WHERE:"
            ],
            "metadata": {
                "azdata_cell_guid": "14be85da-020b-40c3-9faf-851a8b203007"
            },
            "attachments": {}
        },
        {
            "cell_type": "code",
            "source": [
                "USE sucos_vendas\n",
                "GO\n",
                "\n",
                "SELECT * FROM clientes WHERE ja_fez_compra = 1;"
            ],
            "metadata": {
                "azdata_cell_guid": "36cd6bcf-85b9-4761-bd36-cc78a2a91a91",
                "language": "sql"
            },
            "outputs": [
                {
                    "output_type": "display_data",
                    "data": {
                        "text/html": "Commands completed successfully."
                    },
                    "metadata": {}
                },
                {
                    "output_type": "display_data",
                    "data": {
                        "text/html": "(3 rows affected)"
                    },
                    "metadata": {}
                },
                {
                    "output_type": "display_data",
                    "data": {
                        "text/html": "Total execution time: 00:00:00.008"
                    },
                    "metadata": {}
                },
                {
                    "output_type": "execute_result",
                    "metadata": {},
                    "execution_count": 1,
                    "data": {
                        "application/vnd.dataresource+json": {
                            "schema": {
                                "fields": [
                                    {
                                        "name": "cpf"
                                    },
                                    {
                                        "name": "nome_completo"
                                    },
                                    {
                                        "name": "rua"
                                    },
                                    {
                                        "name": "complemento"
                                    },
                                    {
                                        "name": "bairro"
                                    },
                                    {
                                        "name": "estado"
                                    },
                                    {
                                        "name": "CEP"
                                    },
                                    {
                                        "name": "data_nascimento"
                                    },
                                    {
                                        "name": "idade"
                                    },
                                    {
                                        "name": "sexo"
                                    },
                                    {
                                        "name": "limite_credito"
                                    },
                                    {
                                        "name": "volume_minimo_compra"
                                    },
                                    {
                                        "name": "ja_fez_compra"
                                    },
                                    {
                                        "name": "cidade"
                                    }
                                ]
                            },
                            "data": [
                                {
                                    "cpf": "19290992743",
                                    "nome_completo": "Fernando Cavalcante",
                                    "rua": "R. Dois de Fevereiro",
                                    "complemento": "NULL",
                                    "bairro": "Agua Santa",
                                    "estado": "RJ",
                                    "CEP": "22000000",
                                    "data_nascimento": "2000-02-12",
                                    "idade": "24",
                                    "sexo": "M",
                                    "limite_credito": "1000000000,00",
                                    "volume_minimo_compra": "20000",
                                    "ja_fez_compra": "1",
                                    "cidade": "Rio de Janeiro"
                                },
                                {
                                    "cpf": "3623344710 ",
                                    "nome_completo": "Marcos Nogueira",
                                    "rua": "Av. Pastor Martin Luther King Junior",
                                    "complemento": "NULL",
                                    "bairro": "Inhauma",
                                    "estado": "RJ",
                                    "CEP": "22002012",
                                    "data_nascimento": "1995-01-13",
                                    "idade": "29",
                                    "sexo": "M",
                                    "limite_credito": "1100000000,00",
                                    "volume_minimo_compra": "22000",
                                    "ja_fez_compra": "1",
                                    "cidade": "Rio de Janeiro"
                                },
                                {
                                    "cpf": "492472718  ",
                                    "nome_completo": "Eduardo Jorge",
                                    "rua": "R. Volta Grande",
                                    "complemento": "NULL",
                                    "bairro": "Tijuca",
                                    "estado": "RJ",
                                    "CEP": "22012002",
                                    "data_nascimento": "1994-07-19",
                                    "idade": "30",
                                    "sexo": "M",
                                    "limite_credito": "750000000,00",
                                    "volume_minimo_compra": "9500",
                                    "ja_fez_compra": "1",
                                    "cidade": "Rio de Janeiro"
                                }
                            ]
                        },
                        "text/html": [
                            "<table>",
                            "<tr><th>cpf</th><th>nome_completo</th><th>rua</th><th>complemento</th><th>bairro</th><th>estado</th><th>CEP</th><th>data_nascimento</th><th>idade</th><th>sexo</th><th>limite_credito</th><th>volume_minimo_compra</th><th>ja_fez_compra</th><th>cidade</th></tr>",
                            "<tr><td>19290992743</td><td>Fernando Cavalcante</td><td>R. Dois de Fevereiro</td><td>NULL</td><td>Agua Santa</td><td>RJ</td><td>22000000</td><td>2000-02-12</td><td>24</td><td>M</td><td>1000000000,00</td><td>20000</td><td>1</td><td>Rio de Janeiro</td></tr>",
                            "<tr><td>3623344710 </td><td>Marcos Nogueira</td><td>Av. Pastor Martin Luther King Junior</td><td>NULL</td><td>Inhauma</td><td>RJ</td><td>22002012</td><td>1995-01-13</td><td>29</td><td>M</td><td>1100000000,00</td><td>22000</td><td>1</td><td>Rio de Janeiro</td></tr>",
                            "<tr><td>492472718  </td><td>Eduardo Jorge</td><td>R. Volta Grande</td><td>NULL</td><td>Tijuca</td><td>RJ</td><td>22012002</td><td>1994-07-19</td><td>30</td><td>M</td><td>750000000,00</td><td>9500</td><td>1</td><td>Rio de Janeiro</td></tr>",
                            "</table>"
                        ]
                    }
                }
            ],
            "execution_count": 1
        },
        {
            "cell_type": "markdown",
            "source": [
                "Certo, agora vamos procurar pessoas as quais nasceram após a data de 2000-01-01, como faríamos?"
            ],
            "metadata": {
                "azdata_cell_guid": "33140843-e015-4015-a7ef-5e08f4dba356"
            },
            "attachments": {}
        },
        {
            "cell_type": "code",
            "source": [
                "USE sucos_vendas\n",
                "GO\n",
                "\n",
                "SELECT * FROM clientes WHERE data_nascimento > '2000-01-01';"
            ],
            "metadata": {
                "azdata_cell_guid": "82ab2e2e-bb31-4102-9a49-2051e479a401",
                "language": "sql"
            },
            "outputs": [
                {
                    "output_type": "display_data",
                    "data": {
                        "text/html": "Commands completed successfully."
                    },
                    "metadata": {}
                },
                {
                    "output_type": "display_data",
                    "data": {
                        "text/html": "(2 rows affected)"
                    },
                    "metadata": {}
                },
                {
                    "output_type": "display_data",
                    "data": {
                        "text/html": "Total execution time: 00:00:00.012"
                    },
                    "metadata": {}
                },
                {
                    "output_type": "execute_result",
                    "metadata": {},
                    "execution_count": 2,
                    "data": {
                        "application/vnd.dataresource+json": {
                            "schema": {
                                "fields": [
                                    {
                                        "name": "cpf"
                                    },
                                    {
                                        "name": "nome_completo"
                                    },
                                    {
                                        "name": "rua"
                                    },
                                    {
                                        "name": "complemento"
                                    },
                                    {
                                        "name": "bairro"
                                    },
                                    {
                                        "name": "estado"
                                    },
                                    {
                                        "name": "CEP"
                                    },
                                    {
                                        "name": "data_nascimento"
                                    },
                                    {
                                        "name": "idade"
                                    },
                                    {
                                        "name": "sexo"
                                    },
                                    {
                                        "name": "limite_credito"
                                    },
                                    {
                                        "name": "volume_minimo_compra"
                                    },
                                    {
                                        "name": "ja_fez_compra"
                                    },
                                    {
                                        "name": "cidade"
                                    }
                                ]
                            },
                            "data": [
                                {
                                    "cpf": "19290992743",
                                    "nome_completo": "Fernando Cavalcante",
                                    "rua": "R. Dois de Fevereiro",
                                    "complemento": "NULL",
                                    "bairro": "Agua Santa",
                                    "estado": "RJ",
                                    "CEP": "22000000",
                                    "data_nascimento": "2000-02-12",
                                    "idade": "24",
                                    "sexo": "M",
                                    "limite_credito": "1000000000,00",
                                    "volume_minimo_compra": "20000",
                                    "ja_fez_compra": "1",
                                    "cidade": "Rio de Janeiro"
                                },
                                {
                                    "cpf": "2600586709 ",
                                    "nome_completo": "Cesar Teixeira",
                                    "rua": "Rua Conde de Bonfim",
                                    "complemento": "NULL",
                                    "bairro": "Tijuca",
                                    "estado": "RJ",
                                    "CEP": "22020001",
                                    "data_nascimento": "2000-03-12",
                                    "idade": "24",
                                    "sexo": "M",
                                    "limite_credito": "1200000000,00",
                                    "volume_minimo_compra": "22000",
                                    "ja_fez_compra": "0",
                                    "cidade": "Rio de Janeiro"
                                }
                            ]
                        },
                        "text/html": [
                            "<table>",
                            "<tr><th>cpf</th><th>nome_completo</th><th>rua</th><th>complemento</th><th>bairro</th><th>estado</th><th>CEP</th><th>data_nascimento</th><th>idade</th><th>sexo</th><th>limite_credito</th><th>volume_minimo_compra</th><th>ja_fez_compra</th><th>cidade</th></tr>",
                            "<tr><td>19290992743</td><td>Fernando Cavalcante</td><td>R. Dois de Fevereiro</td><td>NULL</td><td>Agua Santa</td><td>RJ</td><td>22000000</td><td>2000-02-12</td><td>24</td><td>M</td><td>1000000000,00</td><td>20000</td><td>1</td><td>Rio de Janeiro</td></tr>",
                            "<tr><td>2600586709 </td><td>Cesar Teixeira</td><td>Rua Conde de Bonfim</td><td>NULL</td><td>Tijuca</td><td>RJ</td><td>22020001</td><td>2000-03-12</td><td>24</td><td>M</td><td>1200000000,00</td><td>22000</td><td>0</td><td>Rio de Janeiro</td></tr>",
                            "</table>"
                        ]
                    }
                }
            ],
            "execution_count": 2
        },
        {
            "cell_type": "markdown",
            "source": [
                "Para tratar com o tipo date também podemos utilizar algumas funções que podem facilitar nossas consultas, sendo elas YEAR(), MONTH(), DAY(), dessa maneira podemos inserir os valores inteiros e não em string como fizemos anteriormente:"
            ],
            "metadata": {
                "azdata_cell_guid": "11862ea3-45ca-48c0-85d5-60b3fdebe4f1"
            },
            "attachments": {}
        },
        {
            "cell_type": "code",
            "source": [
                "USE sucos_vendas\n",
                "GO\n",
                "\n",
                "SELECT * FROM clientes WHERE YEAR(data_nascimento) > 1999;"
            ],
            "metadata": {
                "azdata_cell_guid": "0a7b98d2-ff9d-4d6e-b14d-15a76b830d58",
                "language": "sql"
            },
            "outputs": [
                {
                    "output_type": "display_data",
                    "data": {
                        "text/html": "Commands completed successfully."
                    },
                    "metadata": {}
                },
                {
                    "output_type": "display_data",
                    "data": {
                        "text/html": "(2 rows affected)"
                    },
                    "metadata": {}
                },
                {
                    "output_type": "display_data",
                    "data": {
                        "text/html": "Total execution time: 00:00:00.020"
                    },
                    "metadata": {}
                },
                {
                    "output_type": "execute_result",
                    "metadata": {},
                    "execution_count": 3,
                    "data": {
                        "application/vnd.dataresource+json": {
                            "schema": {
                                "fields": [
                                    {
                                        "name": "cpf"
                                    },
                                    {
                                        "name": "nome_completo"
                                    },
                                    {
                                        "name": "rua"
                                    },
                                    {
                                        "name": "complemento"
                                    },
                                    {
                                        "name": "bairro"
                                    },
                                    {
                                        "name": "estado"
                                    },
                                    {
                                        "name": "CEP"
                                    },
                                    {
                                        "name": "data_nascimento"
                                    },
                                    {
                                        "name": "idade"
                                    },
                                    {
                                        "name": "sexo"
                                    },
                                    {
                                        "name": "limite_credito"
                                    },
                                    {
                                        "name": "volume_minimo_compra"
                                    },
                                    {
                                        "name": "ja_fez_compra"
                                    },
                                    {
                                        "name": "cidade"
                                    }
                                ]
                            },
                            "data": [
                                {
                                    "cpf": "19290992743",
                                    "nome_completo": "Fernando Cavalcante",
                                    "rua": "R. Dois de Fevereiro",
                                    "complemento": "NULL",
                                    "bairro": "Agua Santa",
                                    "estado": "RJ",
                                    "CEP": "22000000",
                                    "data_nascimento": "2000-02-12",
                                    "idade": "24",
                                    "sexo": "M",
                                    "limite_credito": "1000000000,00",
                                    "volume_minimo_compra": "20000",
                                    "ja_fez_compra": "1",
                                    "cidade": "Rio de Janeiro"
                                },
                                {
                                    "cpf": "2600586709 ",
                                    "nome_completo": "Cesar Teixeira",
                                    "rua": "Rua Conde de Bonfim",
                                    "complemento": "NULL",
                                    "bairro": "Tijuca",
                                    "estado": "RJ",
                                    "CEP": "22020001",
                                    "data_nascimento": "2000-03-12",
                                    "idade": "24",
                                    "sexo": "M",
                                    "limite_credito": "1200000000,00",
                                    "volume_minimo_compra": "22000",
                                    "ja_fez_compra": "0",
                                    "cidade": "Rio de Janeiro"
                                }
                            ]
                        },
                        "text/html": [
                            "<table>",
                            "<tr><th>cpf</th><th>nome_completo</th><th>rua</th><th>complemento</th><th>bairro</th><th>estado</th><th>CEP</th><th>data_nascimento</th><th>idade</th><th>sexo</th><th>limite_credito</th><th>volume_minimo_compra</th><th>ja_fez_compra</th><th>cidade</th></tr>",
                            "<tr><td>19290992743</td><td>Fernando Cavalcante</td><td>R. Dois de Fevereiro</td><td>NULL</td><td>Agua Santa</td><td>RJ</td><td>22000000</td><td>2000-02-12</td><td>24</td><td>M</td><td>1000000000,00</td><td>20000</td><td>1</td><td>Rio de Janeiro</td></tr>",
                            "<tr><td>2600586709 </td><td>Cesar Teixeira</td><td>Rua Conde de Bonfim</td><td>NULL</td><td>Tijuca</td><td>RJ</td><td>22020001</td><td>2000-03-12</td><td>24</td><td>M</td><td>1200000000,00</td><td>22000</td><td>0</td><td>Rio de Janeiro</td></tr>",
                            "</table>"
                        ]
                    }
                }
            ],
            "execution_count": 3
        },
        {
            "cell_type": "markdown",
            "source": [
                "Certo, e se tentássemos usar os operadores \\> ou \\< para valores de texto, o que aconteceria?"
            ],
            "metadata": {
                "azdata_cell_guid": "54304f00-bcd9-4534-a149-01c8166cf441"
            },
            "attachments": {}
        },
        {
            "cell_type": "code",
            "source": [
                "USE sucos_vendas\n",
                "GO\n",
                "\n",
                "SELECT * FROM clientes WHERE nome_completo > 'Fernando Cavalcante';"
            ],
            "metadata": {
                "azdata_cell_guid": "233b148d-5cd8-420e-bed8-b564722456fb",
                "language": "sql"
            },
            "outputs": [
                {
                    "output_type": "display_data",
                    "data": {
                        "text/html": "Commands completed successfully."
                    },
                    "metadata": {}
                },
                {
                    "output_type": "display_data",
                    "data": {
                        "text/html": "(1 row affected)"
                    },
                    "metadata": {}
                },
                {
                    "output_type": "display_data",
                    "data": {
                        "text/html": "Total execution time: 00:00:00.052"
                    },
                    "metadata": {}
                },
                {
                    "output_type": "execute_result",
                    "metadata": {},
                    "execution_count": 4,
                    "data": {
                        "application/vnd.dataresource+json": {
                            "schema": {
                                "fields": [
                                    {
                                        "name": "cpf"
                                    },
                                    {
                                        "name": "nome_completo"
                                    },
                                    {
                                        "name": "rua"
                                    },
                                    {
                                        "name": "complemento"
                                    },
                                    {
                                        "name": "bairro"
                                    },
                                    {
                                        "name": "estado"
                                    },
                                    {
                                        "name": "CEP"
                                    },
                                    {
                                        "name": "data_nascimento"
                                    },
                                    {
                                        "name": "idade"
                                    },
                                    {
                                        "name": "sexo"
                                    },
                                    {
                                        "name": "limite_credito"
                                    },
                                    {
                                        "name": "volume_minimo_compra"
                                    },
                                    {
                                        "name": "ja_fez_compra"
                                    },
                                    {
                                        "name": "cidade"
                                    }
                                ]
                            },
                            "data": [
                                {
                                    "cpf": "3623344710 ",
                                    "nome_completo": "Marcos Nogueira",
                                    "rua": "Av. Pastor Martin Luther King Junior",
                                    "complemento": "NULL",
                                    "bairro": "Inhauma",
                                    "estado": "RJ",
                                    "CEP": "22002012",
                                    "data_nascimento": "1995-01-13",
                                    "idade": "29",
                                    "sexo": "M",
                                    "limite_credito": "1100000000,00",
                                    "volume_minimo_compra": "22000",
                                    "ja_fez_compra": "1",
                                    "cidade": "Rio de Janeiro"
                                }
                            ]
                        },
                        "text/html": [
                            "<table>",
                            "<tr><th>cpf</th><th>nome_completo</th><th>rua</th><th>complemento</th><th>bairro</th><th>estado</th><th>CEP</th><th>data_nascimento</th><th>idade</th><th>sexo</th><th>limite_credito</th><th>volume_minimo_compra</th><th>ja_fez_compra</th><th>cidade</th></tr>",
                            "<tr><td>3623344710 </td><td>Marcos Nogueira</td><td>Av. Pastor Martin Luther King Junior</td><td>NULL</td><td>Inhauma</td><td>RJ</td><td>22002012</td><td>1995-01-13</td><td>29</td><td>M</td><td>1100000000,00</td><td>22000</td><td>1</td><td>Rio de Janeiro</td></tr>",
                            "</table>"
                        ]
                    }
                }
            ],
            "execution_count": 4
        },
        {
            "cell_type": "markdown",
            "source": [
                "Veja que apareceu apenas o nome cuja letra está após o F no alfabeto, logo percebe-se que quando usamos operadores para texto iremos fazer uma filtragem a partir da codificação das letras em ASCII onde B é maior que A, C é maior que B e por ai em diante, porém podemos utilizar outras formas para fazermos manipulação de dados de texto."
            ],
            "metadata": {
                "azdata_cell_guid": "fa530367-5a00-47ac-995c-992c265c6a74"
            },
            "attachments": {}
        },
        {
            "cell_type": "markdown",
            "source": [
                "E se quisessemos buscar na tabela clientes todos os clientes cujo nome começa com E, como faríamos? Para isso vamos utilizar a cláusula LIKE:"
            ],
            "metadata": {
                "azdata_cell_guid": "c54cef00-d867-4862-8c2c-0a4ceceaa696"
            },
            "attachments": {}
        },
        {
            "cell_type": "code",
            "source": [
                "USE sucos_vendas\n",
                "GO\n",
                "\n",
                "SELECT * FROM clientes WHERE nome_completo LIKE 'E%';"
            ],
            "metadata": {
                "azdata_cell_guid": "daeaf15a-a49e-4a20-b0bb-d69b1685857d",
                "language": "sql"
            },
            "outputs": [
                {
                    "output_type": "display_data",
                    "data": {
                        "text/html": "Commands completed successfully."
                    },
                    "metadata": {}
                },
                {
                    "output_type": "display_data",
                    "data": {
                        "text/html": "(2 rows affected)"
                    },
                    "metadata": {}
                },
                {
                    "output_type": "display_data",
                    "data": {
                        "text/html": "Total execution time: 00:00:00.038"
                    },
                    "metadata": {}
                },
                {
                    "output_type": "execute_result",
                    "metadata": {},
                    "execution_count": 5,
                    "data": {
                        "application/vnd.dataresource+json": {
                            "schema": {
                                "fields": [
                                    {
                                        "name": "cpf"
                                    },
                                    {
                                        "name": "nome_completo"
                                    },
                                    {
                                        "name": "rua"
                                    },
                                    {
                                        "name": "complemento"
                                    },
                                    {
                                        "name": "bairro"
                                    },
                                    {
                                        "name": "estado"
                                    },
                                    {
                                        "name": "CEP"
                                    },
                                    {
                                        "name": "data_nascimento"
                                    },
                                    {
                                        "name": "idade"
                                    },
                                    {
                                        "name": "sexo"
                                    },
                                    {
                                        "name": "limite_credito"
                                    },
                                    {
                                        "name": "volume_minimo_compra"
                                    },
                                    {
                                        "name": "ja_fez_compra"
                                    },
                                    {
                                        "name": "cidade"
                                    }
                                ]
                            },
                            "data": [
                                {
                                    "cpf": "1471156710 ",
                                    "nome_completo": "Erica Carvalho",
                                    "rua": "R. Iriquitia",
                                    "complemento": "NULL",
                                    "bairro": "Jardins",
                                    "estado": "SP",
                                    "CEP": "80012212",
                                    "data_nascimento": "1990-09-01",
                                    "idade": "34",
                                    "sexo": "F",
                                    "limite_credito": "17000000,00",
                                    "volume_minimo_compra": "24500",
                                    "ja_fez_compra": "0",
                                    "cidade": "São Paulo"
                                },
                                {
                                    "cpf": "492472718  ",
                                    "nome_completo": "Eduardo Jorge",
                                    "rua": "R. Volta Grande",
                                    "complemento": "NULL",
                                    "bairro": "Tijuca",
                                    "estado": "RJ",
                                    "CEP": "22012002",
                                    "data_nascimento": "1994-07-19",
                                    "idade": "30",
                                    "sexo": "M",
                                    "limite_credito": "750000000,00",
                                    "volume_minimo_compra": "9500",
                                    "ja_fez_compra": "1",
                                    "cidade": "Rio de Janeiro"
                                }
                            ]
                        },
                        "text/html": [
                            "<table>",
                            "<tr><th>cpf</th><th>nome_completo</th><th>rua</th><th>complemento</th><th>bairro</th><th>estado</th><th>CEP</th><th>data_nascimento</th><th>idade</th><th>sexo</th><th>limite_credito</th><th>volume_minimo_compra</th><th>ja_fez_compra</th><th>cidade</th></tr>",
                            "<tr><td>1471156710 </td><td>Erica Carvalho</td><td>R. Iriquitia</td><td>NULL</td><td>Jardins</td><td>SP</td><td>80012212</td><td>1990-09-01</td><td>34</td><td>F</td><td>17000000,00</td><td>24500</td><td>0</td><td>São Paulo</td></tr>",
                            "<tr><td>492472718  </td><td>Eduardo Jorge</td><td>R. Volta Grande</td><td>NULL</td><td>Tijuca</td><td>RJ</td><td>22012002</td><td>1994-07-19</td><td>30</td><td>M</td><td>750000000,00</td><td>9500</td><td>1</td><td>Rio de Janeiro</td></tr>",
                            "</table>"
                        ]
                    }
                }
            ],
            "execution_count": 5
        },
        {
            "cell_type": "markdown",
            "source": [
                "Veja que utilizamos o % para indicar que pode haver uma sequência aleatória de caracteres após a letra E, também podemos usar o \\_ para indicar que antes ou depois do caractere haverá apenas um caractere:"
            ],
            "metadata": {
                "azdata_cell_guid": "0a624c65-6f4d-4c0e-9671-b3a1caafce5a"
            },
            "attachments": {}
        },
        {
            "cell_type": "code",
            "source": [
                "USE sucos_vendas\n",
                "GO\n",
                "\n",
                "SELECT * FROM clientes WHERE nome_completo LIKE 'E%g_';"
            ],
            "metadata": {
                "azdata_cell_guid": "7f773eb6-4fb5-4816-870a-2a2d7662db1e",
                "language": "sql"
            },
            "outputs": [
                {
                    "output_type": "display_data",
                    "data": {
                        "text/html": "Commands completed successfully."
                    },
                    "metadata": {}
                },
                {
                    "output_type": "display_data",
                    "data": {
                        "text/html": "(1 row affected)"
                    },
                    "metadata": {}
                },
                {
                    "output_type": "display_data",
                    "data": {
                        "text/html": "Total execution time: 00:00:00.018"
                    },
                    "metadata": {}
                },
                {
                    "output_type": "execute_result",
                    "metadata": {},
                    "execution_count": 6,
                    "data": {
                        "application/vnd.dataresource+json": {
                            "schema": {
                                "fields": [
                                    {
                                        "name": "cpf"
                                    },
                                    {
                                        "name": "nome_completo"
                                    },
                                    {
                                        "name": "rua"
                                    },
                                    {
                                        "name": "complemento"
                                    },
                                    {
                                        "name": "bairro"
                                    },
                                    {
                                        "name": "estado"
                                    },
                                    {
                                        "name": "CEP"
                                    },
                                    {
                                        "name": "data_nascimento"
                                    },
                                    {
                                        "name": "idade"
                                    },
                                    {
                                        "name": "sexo"
                                    },
                                    {
                                        "name": "limite_credito"
                                    },
                                    {
                                        "name": "volume_minimo_compra"
                                    },
                                    {
                                        "name": "ja_fez_compra"
                                    },
                                    {
                                        "name": "cidade"
                                    }
                                ]
                            },
                            "data": [
                                {
                                    "cpf": "492472718  ",
                                    "nome_completo": "Eduardo Jorge",
                                    "rua": "R. Volta Grande",
                                    "complemento": "NULL",
                                    "bairro": "Tijuca",
                                    "estado": "RJ",
                                    "CEP": "22012002",
                                    "data_nascimento": "1994-07-19",
                                    "idade": "30",
                                    "sexo": "M",
                                    "limite_credito": "750000000,00",
                                    "volume_minimo_compra": "9500",
                                    "ja_fez_compra": "1",
                                    "cidade": "Rio de Janeiro"
                                }
                            ]
                        },
                        "text/html": [
                            "<table>",
                            "<tr><th>cpf</th><th>nome_completo</th><th>rua</th><th>complemento</th><th>bairro</th><th>estado</th><th>CEP</th><th>data_nascimento</th><th>idade</th><th>sexo</th><th>limite_credito</th><th>volume_minimo_compra</th><th>ja_fez_compra</th><th>cidade</th></tr>",
                            "<tr><td>492472718  </td><td>Eduardo Jorge</td><td>R. Volta Grande</td><td>NULL</td><td>Tijuca</td><td>RJ</td><td>22012002</td><td>1994-07-19</td><td>30</td><td>M</td><td>750000000,00</td><td>9500</td><td>1</td><td>Rio de Janeiro</td></tr>",
                            "</table>"
                        ]
                    }
                }
            ],
            "execution_count": 6
        },
        {
            "cell_type": "markdown",
            "source": [
                "Veja que acima dizemos que o nome começa com E, possui uma quantidade não definida de caracteres após ele e depois do g só há um caractere."
            ],
            "metadata": {
                "azdata_cell_guid": "2430b3fa-adb6-42e1-889f-b888292c07c4"
            },
            "attachments": {}
        },
        {
            "cell_type": "markdown",
            "source": [
                "Podemos também usar operadores de condição sendo eles o AND, OR e IN, o IN nós permite definir um conjunto onde os valores podem estar:"
            ],
            "metadata": {
                "azdata_cell_guid": "ebed1313-7d07-4060-9de8-613ec235b776"
            },
            "attachments": {}
        },
        {
            "cell_type": "code",
            "source": [
                "USE sucos_vendas\n",
                "GO\n",
                "\n",
                "SELECT * FROM clientes WHERE nome_completo in ('Eduardo Jorge', 'Marcos Nogueira');"
            ],
            "metadata": {
                "azdata_cell_guid": "ad18a652-7d38-40f5-98e1-35de728da397",
                "language": "sql"
            },
            "outputs": [
                {
                    "output_type": "display_data",
                    "data": {
                        "text/html": "Commands completed successfully."
                    },
                    "metadata": {}
                },
                {
                    "output_type": "display_data",
                    "data": {
                        "text/html": "(2 rows affected)"
                    },
                    "metadata": {}
                },
                {
                    "output_type": "display_data",
                    "data": {
                        "text/html": "Total execution time: 00:00:00.015"
                    },
                    "metadata": {}
                },
                {
                    "output_type": "execute_result",
                    "metadata": {},
                    "execution_count": 7,
                    "data": {
                        "application/vnd.dataresource+json": {
                            "schema": {
                                "fields": [
                                    {
                                        "name": "cpf"
                                    },
                                    {
                                        "name": "nome_completo"
                                    },
                                    {
                                        "name": "rua"
                                    },
                                    {
                                        "name": "complemento"
                                    },
                                    {
                                        "name": "bairro"
                                    },
                                    {
                                        "name": "estado"
                                    },
                                    {
                                        "name": "CEP"
                                    },
                                    {
                                        "name": "data_nascimento"
                                    },
                                    {
                                        "name": "idade"
                                    },
                                    {
                                        "name": "sexo"
                                    },
                                    {
                                        "name": "limite_credito"
                                    },
                                    {
                                        "name": "volume_minimo_compra"
                                    },
                                    {
                                        "name": "ja_fez_compra"
                                    },
                                    {
                                        "name": "cidade"
                                    }
                                ]
                            },
                            "data": [
                                {
                                    "cpf": "3623344710 ",
                                    "nome_completo": "Marcos Nogueira",
                                    "rua": "Av. Pastor Martin Luther King Junior",
                                    "complemento": "NULL",
                                    "bairro": "Inhauma",
                                    "estado": "RJ",
                                    "CEP": "22002012",
                                    "data_nascimento": "1995-01-13",
                                    "idade": "29",
                                    "sexo": "M",
                                    "limite_credito": "1100000000,00",
                                    "volume_minimo_compra": "22000",
                                    "ja_fez_compra": "1",
                                    "cidade": "Rio de Janeiro"
                                },
                                {
                                    "cpf": "492472718  ",
                                    "nome_completo": "Eduardo Jorge",
                                    "rua": "R. Volta Grande",
                                    "complemento": "NULL",
                                    "bairro": "Tijuca",
                                    "estado": "RJ",
                                    "CEP": "22012002",
                                    "data_nascimento": "1994-07-19",
                                    "idade": "30",
                                    "sexo": "M",
                                    "limite_credito": "750000000,00",
                                    "volume_minimo_compra": "9500",
                                    "ja_fez_compra": "1",
                                    "cidade": "Rio de Janeiro"
                                }
                            ]
                        },
                        "text/html": [
                            "<table>",
                            "<tr><th>cpf</th><th>nome_completo</th><th>rua</th><th>complemento</th><th>bairro</th><th>estado</th><th>CEP</th><th>data_nascimento</th><th>idade</th><th>sexo</th><th>limite_credito</th><th>volume_minimo_compra</th><th>ja_fez_compra</th><th>cidade</th></tr>",
                            "<tr><td>3623344710 </td><td>Marcos Nogueira</td><td>Av. Pastor Martin Luther King Junior</td><td>NULL</td><td>Inhauma</td><td>RJ</td><td>22002012</td><td>1995-01-13</td><td>29</td><td>M</td><td>1100000000,00</td><td>22000</td><td>1</td><td>Rio de Janeiro</td></tr>",
                            "<tr><td>492472718  </td><td>Eduardo Jorge</td><td>R. Volta Grande</td><td>NULL</td><td>Tijuca</td><td>RJ</td><td>22012002</td><td>1994-07-19</td><td>30</td><td>M</td><td>750000000,00</td><td>9500</td><td>1</td><td>Rio de Janeiro</td></tr>",
                            "</table>"
                        ]
                    }
                }
            ],
            "execution_count": 7
        },
        {
            "cell_type": "markdown",
            "source": [
                "Certo, vimos como fazer a filtragem dos dados com WHERE, e como utilizar operadores condicionais para melhorar nossas consultas, porém e se quisessemos atualizar valores da tabela, como faríamos, para isso vamos utilizar o comando UPDATE:"
            ],
            "metadata": {
                "azdata_cell_guid": "262206a4-d32e-416f-a67c-85005b98d320"
            },
            "attachments": {}
        },
        {
            "cell_type": "code",
            "source": [
                "USE sucos_vendas\n",
                "GO\n",
                "\n",
                "UPDATE clientes SET cidade = 'Belo Horizonte' WHERE cpf = '3623344710';"
            ],
            "metadata": {
                "azdata_cell_guid": "701599df-f8b4-4966-975e-ce82551cd709",
                "language": "sql"
            },
            "outputs": [
                {
                    "output_type": "display_data",
                    "data": {
                        "text/html": "Commands completed successfully."
                    },
                    "metadata": {}
                },
                {
                    "output_type": "display_data",
                    "data": {
                        "text/html": "(1 row affected)"
                    },
                    "metadata": {}
                },
                {
                    "output_type": "display_data",
                    "data": {
                        "text/html": "Total execution time: 00:00:00.010"
                    },
                    "metadata": {}
                }
            ],
            "execution_count": 8
        },
        {
            "cell_type": "markdown",
            "source": [
                "Dessa maneira vamos atualizar a tabela clientes, atualizando a coluna cidade, onde o cpf é '<span style=\"color: rgb(163, 21, 21); font-family: Menlo, Monaco, &quot;Courier New&quot;, monospace; font-size: 12px; white-space: pre;\">3623344710'.</span>"
            ],
            "metadata": {
                "azdata_cell_guid": "7daa6a52-1b54-41a3-bb1e-116956d3620d"
            },
            "attachments": {}
        },
        {
            "cell_type": "markdown",
            "source": [
                "Certo, e se quisessemo deletar a linha que acabamos de atualizar, como faríamos? Para isso vamos utilizar o comando DELETE:"
            ],
            "metadata": {
                "azdata_cell_guid": "fb6e2146-88d3-4ce8-bff8-c5826ee8d445"
            },
            "attachments": {}
        },
        {
            "cell_type": "code",
            "source": [
                "USE sucos_vendas\n",
                "GO\n",
                "\n",
                "DELETE FROM clientes WHERE cpf = '3623344710';"
            ],
            "metadata": {
                "azdata_cell_guid": "4f68a571-0bdc-4401-9983-bfdedcd6264b",
                "language": "sql"
            },
            "outputs": [
                {
                    "output_type": "display_data",
                    "data": {
                        "text/html": "Commands completed successfully."
                    },
                    "metadata": {}
                },
                {
                    "output_type": "display_data",
                    "data": {
                        "text/html": "(1 row affected)"
                    },
                    "metadata": {}
                },
                {
                    "output_type": "display_data",
                    "data": {
                        "text/html": "Total execution time: 00:00:00.010"
                    },
                    "metadata": {}
                }
            ],
            "execution_count": 9
        },
        {
            "cell_type": "markdown",
            "source": [
                "Dessa maneira deletamos a linha da tabela clientes cujo cpf era <span style=\"font-family: Menlo, Monaco, &quot;Courier New&quot;, monospace; font-size: 12px; white-space: pre; color: rgb(163, 21, 21);\">'3623344710'</span><span style=\"font-family: Menlo, Monaco, &quot;Courier New&quot;, monospace; font-size: 12px; white-space: pre;\"><font color=\"#212121\">.</font></span>"
            ],
            "metadata": {
                "azdata_cell_guid": "b16f511f-c437-4a15-a278-3762a1e35248"
            },
            "attachments": {}
        }
    ]
}