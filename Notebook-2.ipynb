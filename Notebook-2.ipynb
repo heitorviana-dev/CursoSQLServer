{
    "metadata": {
        "kernelspec": {
            "name": "SQL",
            "display_name": "SQL",
            "language": "sql"
        },
        "language_info": {
            "name": "sql",
            "version": ""
        }
    },
    "nbformat_minor": 2,
    "nbformat": 4,
    "cells": [
        {
            "cell_type": "markdown",
            "source": [
                "Adicionando dados na tabela produtos:"
            ],
            "metadata": {
                "azdata_cell_guid": "90c24c8d-024a-47ce-9dde-62d513a5666b"
            },
            "attachments": {}
        },
        {
            "cell_type": "code",
            "source": [
                "INSERT INTO produtos VALUES(1040107, 'Light 350 ml - Melancia', 'Lata', 350.0, 'Melancia', 4.56);"
            ],
            "metadata": {
                "azdata_cell_guid": "47327b53-40d6-4d0f-9c29-99f7a2c99e33",
                "language": "sql"
            },
            "outputs": [],
            "execution_count": null
        },
        {
            "cell_type": "markdown",
            "source": [
                "Adicionando várias linhas na tabela produtos:"
            ],
            "metadata": {
                "azdata_cell_guid": "9a5d6c03-cc45-4572-a563-8c5d85c4133a"
            },
            "attachments": {}
        },
        {
            "cell_type": "code",
            "source": [
                "INSERT INTO produtos VALUES\n",
                "(1040152, 'Light 350 ml - Guarana', 'Lata', 350.0, 'Guarana', 5.96),\n",
                "(1004534, 'Zero 250 ml - Cola', 'Lata', 250.0, 'Cola', 4.50)\n",
                ";"
            ],
            "metadata": {
                "azdata_cell_guid": "ac708b53-f01a-4e07-8b3a-958d4a50b950",
                "language": "sql",
                "tags": []
            },
            "outputs": [],
            "execution_count": null
        },
        {
            "cell_type": "markdown",
            "source": [
                "Existem algumas restrições da Primary Key, por exemplo caso você tente inserir uma linha com uma PK já existente, ocorrerá uma exceção, caso você tente inserir uma linha com NULL como PK, também ocorrerá uma exceção."
            ],
            "metadata": {
                "azdata_cell_guid": "655c35e9-9fd3-48e2-8303-da92addd8412"
            },
            "attachments": {}
        }
    ]
}